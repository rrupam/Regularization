{
  "nbformat": 4,
  "nbformat_minor": 0,
  "metadata": {
    "colab": {
      "name": "Housing_Prices.ipynb",
      "version": "0.3.2",
      "provenance": [],
      "include_colab_link": true
    },
    "kernelspec": {
      "name": "python3",
      "display_name": "Python 3"
    }
  },
  "cells": [
    {
      "cell_type": "markdown",
      "metadata": {
        "id": "view-in-github",
        "colab_type": "text"
      },
      "source": [
        "<a href=\"https://colab.research.google.com/github/rrupam/Regularization/blob/master/Housing_Prices.ipynb\" target=\"_parent\"><img src=\"https://colab.research.google.com/assets/colab-badge.svg\" alt=\"Open In Colab\"/></a>"
      ]
    },
    {
      "cell_type": "markdown",
      "metadata": {
        "id": "ccDOKAUBGE6V",
        "colab_type": "text"
      },
      "source": [
        "This is forked from https://www.kaggle.com/juliencs/a-study-on-regression-applied-to-the-ames-dataset"
      ]
    },
    {
      "cell_type": "code",
      "metadata": {
        "id": "qxWHGJ7asL9X",
        "colab_type": "code",
        "outputId": "cb10ae49-82a0-47c6-e9eb-c53974de0ab6",
        "colab": {
          "base_uri": "https://localhost:8080/",
          "height": 35
        }
      },
      "source": [
        "from google.colab import drive\n",
        "drive.mount('/content/drive')"
      ],
      "execution_count": 11,
      "outputs": [
        {
          "output_type": "stream",
          "text": [
            "Drive already mounted at /content/drive; to attempt to forcibly remount, call drive.mount(\"/content/drive\", force_remount=True).\n"
          ],
          "name": "stdout"
        }
      ]
    },
    {
      "cell_type": "code",
      "metadata": {
        "id": "oShoFxppsZAD",
        "colab_type": "code",
        "outputId": "635b7bb9-3082-428b-8cfb-93b4798e64a2",
        "colab": {
          "base_uri": "https://localhost:8080/",
          "height": 53
        }
      },
      "source": [
        "% cd drive/My Drive/Colab Notebooks/House_prices_kaggle"
      ],
      "execution_count": 12,
      "outputs": [
        {
          "output_type": "stream",
          "text": [
            "[Errno 2] No such file or directory: 'drive/My Drive/Colab Notebooks/House_prices_kaggle'\n",
            "/content/drive/My Drive/Colab Notebooks/House_prices_kaggle\n"
          ],
          "name": "stdout"
        }
      ]
    },
    {
      "cell_type": "code",
      "metadata": {
        "id": "_6aCXvGOtDVI",
        "colab_type": "code",
        "colab": {}
      },
      "source": [
        "import pandas as pd\n",
        "import numpy as np\n",
        "from sklearn.model_selection import cross_val_score, train_test_split\n",
        "from sklearn.preprocessing import StandardScaler\n",
        "from sklearn.linear_model import LinearRegression, RidgeCV, LassoCV, ElasticNetCV\n",
        "from sklearn.metrics import mean_squared_error, make_scorer\n",
        "from scipy.stats import skew\n",
        "from IPython.display import display\n",
        "import matplotlib.pyplot as plt\n",
        "import seaborn as sns\n",
        "\n",
        "# Definitions\n",
        "pd.set_option('display.float_format', lambda x: '%.3f' % x)\n",
        "%matplotlib inline\n",
        "#njobs = 4"
      ],
      "execution_count": 0,
      "outputs": []
    },
    {
      "cell_type": "code",
      "metadata": {
        "id": "Anl7-EY2tO9H",
        "colab_type": "code",
        "outputId": "0467d43e-7e7b-4133-8093-ff2d066e5fc1",
        "colab": {
          "base_uri": "https://localhost:8080/",
          "height": 35
        }
      },
      "source": [
        "train = pd.read_csv(\"train.csv\")\n",
        "print(\"train : \" + str(train.shape))"
      ],
      "execution_count": 26,
      "outputs": [
        {
          "output_type": "stream",
          "text": [
            "train : (1460, 81)\n"
          ],
          "name": "stdout"
        }
      ]
    },
    {
      "cell_type": "code",
      "metadata": {
        "id": "obg_pRKj_Rga",
        "colab_type": "code",
        "colab": {
          "base_uri": "https://localhost:8080/",
          "height": 253
        },
        "outputId": "f5f3b724-db7e-4b7b-bcf3-637dcfb142ec"
      },
      "source": [
        "train.head()"
      ],
      "execution_count": 27,
      "outputs": [
        {
          "output_type": "execute_result",
          "data": {
            "text/html": [
              "<div>\n",
              "<style scoped>\n",
              "    .dataframe tbody tr th:only-of-type {\n",
              "        vertical-align: middle;\n",
              "    }\n",
              "\n",
              "    .dataframe tbody tr th {\n",
              "        vertical-align: top;\n",
              "    }\n",
              "\n",
              "    .dataframe thead th {\n",
              "        text-align: right;\n",
              "    }\n",
              "</style>\n",
              "<table border=\"1\" class=\"dataframe\">\n",
              "  <thead>\n",
              "    <tr style=\"text-align: right;\">\n",
              "      <th></th>\n",
              "      <th>Id</th>\n",
              "      <th>MSSubClass</th>\n",
              "      <th>MSZoning</th>\n",
              "      <th>LotFrontage</th>\n",
              "      <th>LotArea</th>\n",
              "      <th>Street</th>\n",
              "      <th>Alley</th>\n",
              "      <th>LotShape</th>\n",
              "      <th>LandContour</th>\n",
              "      <th>Utilities</th>\n",
              "      <th>LotConfig</th>\n",
              "      <th>LandSlope</th>\n",
              "      <th>Neighborhood</th>\n",
              "      <th>Condition1</th>\n",
              "      <th>Condition2</th>\n",
              "      <th>BldgType</th>\n",
              "      <th>HouseStyle</th>\n",
              "      <th>OverallQual</th>\n",
              "      <th>OverallCond</th>\n",
              "      <th>YearBuilt</th>\n",
              "      <th>YearRemodAdd</th>\n",
              "      <th>RoofStyle</th>\n",
              "      <th>RoofMatl</th>\n",
              "      <th>Exterior1st</th>\n",
              "      <th>Exterior2nd</th>\n",
              "      <th>MasVnrType</th>\n",
              "      <th>MasVnrArea</th>\n",
              "      <th>ExterQual</th>\n",
              "      <th>ExterCond</th>\n",
              "      <th>Foundation</th>\n",
              "      <th>BsmtQual</th>\n",
              "      <th>BsmtCond</th>\n",
              "      <th>BsmtExposure</th>\n",
              "      <th>BsmtFinType1</th>\n",
              "      <th>BsmtFinSF1</th>\n",
              "      <th>BsmtFinType2</th>\n",
              "      <th>BsmtFinSF2</th>\n",
              "      <th>BsmtUnfSF</th>\n",
              "      <th>TotalBsmtSF</th>\n",
              "      <th>Heating</th>\n",
              "      <th>...</th>\n",
              "      <th>CentralAir</th>\n",
              "      <th>Electrical</th>\n",
              "      <th>1stFlrSF</th>\n",
              "      <th>2ndFlrSF</th>\n",
              "      <th>LowQualFinSF</th>\n",
              "      <th>GrLivArea</th>\n",
              "      <th>BsmtFullBath</th>\n",
              "      <th>BsmtHalfBath</th>\n",
              "      <th>FullBath</th>\n",
              "      <th>HalfBath</th>\n",
              "      <th>BedroomAbvGr</th>\n",
              "      <th>KitchenAbvGr</th>\n",
              "      <th>KitchenQual</th>\n",
              "      <th>TotRmsAbvGrd</th>\n",
              "      <th>Functional</th>\n",
              "      <th>Fireplaces</th>\n",
              "      <th>FireplaceQu</th>\n",
              "      <th>GarageType</th>\n",
              "      <th>GarageYrBlt</th>\n",
              "      <th>GarageFinish</th>\n",
              "      <th>GarageCars</th>\n",
              "      <th>GarageArea</th>\n",
              "      <th>GarageQual</th>\n",
              "      <th>GarageCond</th>\n",
              "      <th>PavedDrive</th>\n",
              "      <th>WoodDeckSF</th>\n",
              "      <th>OpenPorchSF</th>\n",
              "      <th>EnclosedPorch</th>\n",
              "      <th>3SsnPorch</th>\n",
              "      <th>ScreenPorch</th>\n",
              "      <th>PoolArea</th>\n",
              "      <th>PoolQC</th>\n",
              "      <th>Fence</th>\n",
              "      <th>MiscFeature</th>\n",
              "      <th>MiscVal</th>\n",
              "      <th>MoSold</th>\n",
              "      <th>YrSold</th>\n",
              "      <th>SaleType</th>\n",
              "      <th>SaleCondition</th>\n",
              "      <th>SalePrice</th>\n",
              "    </tr>\n",
              "  </thead>\n",
              "  <tbody>\n",
              "    <tr>\n",
              "      <th>0</th>\n",
              "      <td>1</td>\n",
              "      <td>60</td>\n",
              "      <td>RL</td>\n",
              "      <td>65.000</td>\n",
              "      <td>8450</td>\n",
              "      <td>Pave</td>\n",
              "      <td>NaN</td>\n",
              "      <td>Reg</td>\n",
              "      <td>Lvl</td>\n",
              "      <td>AllPub</td>\n",
              "      <td>Inside</td>\n",
              "      <td>Gtl</td>\n",
              "      <td>CollgCr</td>\n",
              "      <td>Norm</td>\n",
              "      <td>Norm</td>\n",
              "      <td>1Fam</td>\n",
              "      <td>2Story</td>\n",
              "      <td>7</td>\n",
              "      <td>5</td>\n",
              "      <td>2003</td>\n",
              "      <td>2003</td>\n",
              "      <td>Gable</td>\n",
              "      <td>CompShg</td>\n",
              "      <td>VinylSd</td>\n",
              "      <td>VinylSd</td>\n",
              "      <td>BrkFace</td>\n",
              "      <td>196.000</td>\n",
              "      <td>Gd</td>\n",
              "      <td>TA</td>\n",
              "      <td>PConc</td>\n",
              "      <td>Gd</td>\n",
              "      <td>TA</td>\n",
              "      <td>No</td>\n",
              "      <td>GLQ</td>\n",
              "      <td>706</td>\n",
              "      <td>Unf</td>\n",
              "      <td>0</td>\n",
              "      <td>150</td>\n",
              "      <td>856</td>\n",
              "      <td>GasA</td>\n",
              "      <td>...</td>\n",
              "      <td>Y</td>\n",
              "      <td>SBrkr</td>\n",
              "      <td>856</td>\n",
              "      <td>854</td>\n",
              "      <td>0</td>\n",
              "      <td>1710</td>\n",
              "      <td>1</td>\n",
              "      <td>0</td>\n",
              "      <td>2</td>\n",
              "      <td>1</td>\n",
              "      <td>3</td>\n",
              "      <td>1</td>\n",
              "      <td>Gd</td>\n",
              "      <td>8</td>\n",
              "      <td>Typ</td>\n",
              "      <td>0</td>\n",
              "      <td>NaN</td>\n",
              "      <td>Attchd</td>\n",
              "      <td>2003.000</td>\n",
              "      <td>RFn</td>\n",
              "      <td>2</td>\n",
              "      <td>548</td>\n",
              "      <td>TA</td>\n",
              "      <td>TA</td>\n",
              "      <td>Y</td>\n",
              "      <td>0</td>\n",
              "      <td>61</td>\n",
              "      <td>0</td>\n",
              "      <td>0</td>\n",
              "      <td>0</td>\n",
              "      <td>0</td>\n",
              "      <td>NaN</td>\n",
              "      <td>NaN</td>\n",
              "      <td>NaN</td>\n",
              "      <td>0</td>\n",
              "      <td>2</td>\n",
              "      <td>2008</td>\n",
              "      <td>WD</td>\n",
              "      <td>Normal</td>\n",
              "      <td>208500</td>\n",
              "    </tr>\n",
              "    <tr>\n",
              "      <th>1</th>\n",
              "      <td>2</td>\n",
              "      <td>20</td>\n",
              "      <td>RL</td>\n",
              "      <td>80.000</td>\n",
              "      <td>9600</td>\n",
              "      <td>Pave</td>\n",
              "      <td>NaN</td>\n",
              "      <td>Reg</td>\n",
              "      <td>Lvl</td>\n",
              "      <td>AllPub</td>\n",
              "      <td>FR2</td>\n",
              "      <td>Gtl</td>\n",
              "      <td>Veenker</td>\n",
              "      <td>Feedr</td>\n",
              "      <td>Norm</td>\n",
              "      <td>1Fam</td>\n",
              "      <td>1Story</td>\n",
              "      <td>6</td>\n",
              "      <td>8</td>\n",
              "      <td>1976</td>\n",
              "      <td>1976</td>\n",
              "      <td>Gable</td>\n",
              "      <td>CompShg</td>\n",
              "      <td>MetalSd</td>\n",
              "      <td>MetalSd</td>\n",
              "      <td>None</td>\n",
              "      <td>0.000</td>\n",
              "      <td>TA</td>\n",
              "      <td>TA</td>\n",
              "      <td>CBlock</td>\n",
              "      <td>Gd</td>\n",
              "      <td>TA</td>\n",
              "      <td>Gd</td>\n",
              "      <td>ALQ</td>\n",
              "      <td>978</td>\n",
              "      <td>Unf</td>\n",
              "      <td>0</td>\n",
              "      <td>284</td>\n",
              "      <td>1262</td>\n",
              "      <td>GasA</td>\n",
              "      <td>...</td>\n",
              "      <td>Y</td>\n",
              "      <td>SBrkr</td>\n",
              "      <td>1262</td>\n",
              "      <td>0</td>\n",
              "      <td>0</td>\n",
              "      <td>1262</td>\n",
              "      <td>0</td>\n",
              "      <td>1</td>\n",
              "      <td>2</td>\n",
              "      <td>0</td>\n",
              "      <td>3</td>\n",
              "      <td>1</td>\n",
              "      <td>TA</td>\n",
              "      <td>6</td>\n",
              "      <td>Typ</td>\n",
              "      <td>1</td>\n",
              "      <td>TA</td>\n",
              "      <td>Attchd</td>\n",
              "      <td>1976.000</td>\n",
              "      <td>RFn</td>\n",
              "      <td>2</td>\n",
              "      <td>460</td>\n",
              "      <td>TA</td>\n",
              "      <td>TA</td>\n",
              "      <td>Y</td>\n",
              "      <td>298</td>\n",
              "      <td>0</td>\n",
              "      <td>0</td>\n",
              "      <td>0</td>\n",
              "      <td>0</td>\n",
              "      <td>0</td>\n",
              "      <td>NaN</td>\n",
              "      <td>NaN</td>\n",
              "      <td>NaN</td>\n",
              "      <td>0</td>\n",
              "      <td>5</td>\n",
              "      <td>2007</td>\n",
              "      <td>WD</td>\n",
              "      <td>Normal</td>\n",
              "      <td>181500</td>\n",
              "    </tr>\n",
              "    <tr>\n",
              "      <th>2</th>\n",
              "      <td>3</td>\n",
              "      <td>60</td>\n",
              "      <td>RL</td>\n",
              "      <td>68.000</td>\n",
              "      <td>11250</td>\n",
              "      <td>Pave</td>\n",
              "      <td>NaN</td>\n",
              "      <td>IR1</td>\n",
              "      <td>Lvl</td>\n",
              "      <td>AllPub</td>\n",
              "      <td>Inside</td>\n",
              "      <td>Gtl</td>\n",
              "      <td>CollgCr</td>\n",
              "      <td>Norm</td>\n",
              "      <td>Norm</td>\n",
              "      <td>1Fam</td>\n",
              "      <td>2Story</td>\n",
              "      <td>7</td>\n",
              "      <td>5</td>\n",
              "      <td>2001</td>\n",
              "      <td>2002</td>\n",
              "      <td>Gable</td>\n",
              "      <td>CompShg</td>\n",
              "      <td>VinylSd</td>\n",
              "      <td>VinylSd</td>\n",
              "      <td>BrkFace</td>\n",
              "      <td>162.000</td>\n",
              "      <td>Gd</td>\n",
              "      <td>TA</td>\n",
              "      <td>PConc</td>\n",
              "      <td>Gd</td>\n",
              "      <td>TA</td>\n",
              "      <td>Mn</td>\n",
              "      <td>GLQ</td>\n",
              "      <td>486</td>\n",
              "      <td>Unf</td>\n",
              "      <td>0</td>\n",
              "      <td>434</td>\n",
              "      <td>920</td>\n",
              "      <td>GasA</td>\n",
              "      <td>...</td>\n",
              "      <td>Y</td>\n",
              "      <td>SBrkr</td>\n",
              "      <td>920</td>\n",
              "      <td>866</td>\n",
              "      <td>0</td>\n",
              "      <td>1786</td>\n",
              "      <td>1</td>\n",
              "      <td>0</td>\n",
              "      <td>2</td>\n",
              "      <td>1</td>\n",
              "      <td>3</td>\n",
              "      <td>1</td>\n",
              "      <td>Gd</td>\n",
              "      <td>6</td>\n",
              "      <td>Typ</td>\n",
              "      <td>1</td>\n",
              "      <td>TA</td>\n",
              "      <td>Attchd</td>\n",
              "      <td>2001.000</td>\n",
              "      <td>RFn</td>\n",
              "      <td>2</td>\n",
              "      <td>608</td>\n",
              "      <td>TA</td>\n",
              "      <td>TA</td>\n",
              "      <td>Y</td>\n",
              "      <td>0</td>\n",
              "      <td>42</td>\n",
              "      <td>0</td>\n",
              "      <td>0</td>\n",
              "      <td>0</td>\n",
              "      <td>0</td>\n",
              "      <td>NaN</td>\n",
              "      <td>NaN</td>\n",
              "      <td>NaN</td>\n",
              "      <td>0</td>\n",
              "      <td>9</td>\n",
              "      <td>2008</td>\n",
              "      <td>WD</td>\n",
              "      <td>Normal</td>\n",
              "      <td>223500</td>\n",
              "    </tr>\n",
              "    <tr>\n",
              "      <th>3</th>\n",
              "      <td>4</td>\n",
              "      <td>70</td>\n",
              "      <td>RL</td>\n",
              "      <td>60.000</td>\n",
              "      <td>9550</td>\n",
              "      <td>Pave</td>\n",
              "      <td>NaN</td>\n",
              "      <td>IR1</td>\n",
              "      <td>Lvl</td>\n",
              "      <td>AllPub</td>\n",
              "      <td>Corner</td>\n",
              "      <td>Gtl</td>\n",
              "      <td>Crawfor</td>\n",
              "      <td>Norm</td>\n",
              "      <td>Norm</td>\n",
              "      <td>1Fam</td>\n",
              "      <td>2Story</td>\n",
              "      <td>7</td>\n",
              "      <td>5</td>\n",
              "      <td>1915</td>\n",
              "      <td>1970</td>\n",
              "      <td>Gable</td>\n",
              "      <td>CompShg</td>\n",
              "      <td>Wd Sdng</td>\n",
              "      <td>Wd Shng</td>\n",
              "      <td>None</td>\n",
              "      <td>0.000</td>\n",
              "      <td>TA</td>\n",
              "      <td>TA</td>\n",
              "      <td>BrkTil</td>\n",
              "      <td>TA</td>\n",
              "      <td>Gd</td>\n",
              "      <td>No</td>\n",
              "      <td>ALQ</td>\n",
              "      <td>216</td>\n",
              "      <td>Unf</td>\n",
              "      <td>0</td>\n",
              "      <td>540</td>\n",
              "      <td>756</td>\n",
              "      <td>GasA</td>\n",
              "      <td>...</td>\n",
              "      <td>Y</td>\n",
              "      <td>SBrkr</td>\n",
              "      <td>961</td>\n",
              "      <td>756</td>\n",
              "      <td>0</td>\n",
              "      <td>1717</td>\n",
              "      <td>1</td>\n",
              "      <td>0</td>\n",
              "      <td>1</td>\n",
              "      <td>0</td>\n",
              "      <td>3</td>\n",
              "      <td>1</td>\n",
              "      <td>Gd</td>\n",
              "      <td>7</td>\n",
              "      <td>Typ</td>\n",
              "      <td>1</td>\n",
              "      <td>Gd</td>\n",
              "      <td>Detchd</td>\n",
              "      <td>1998.000</td>\n",
              "      <td>Unf</td>\n",
              "      <td>3</td>\n",
              "      <td>642</td>\n",
              "      <td>TA</td>\n",
              "      <td>TA</td>\n",
              "      <td>Y</td>\n",
              "      <td>0</td>\n",
              "      <td>35</td>\n",
              "      <td>272</td>\n",
              "      <td>0</td>\n",
              "      <td>0</td>\n",
              "      <td>0</td>\n",
              "      <td>NaN</td>\n",
              "      <td>NaN</td>\n",
              "      <td>NaN</td>\n",
              "      <td>0</td>\n",
              "      <td>2</td>\n",
              "      <td>2006</td>\n",
              "      <td>WD</td>\n",
              "      <td>Abnorml</td>\n",
              "      <td>140000</td>\n",
              "    </tr>\n",
              "    <tr>\n",
              "      <th>4</th>\n",
              "      <td>5</td>\n",
              "      <td>60</td>\n",
              "      <td>RL</td>\n",
              "      <td>84.000</td>\n",
              "      <td>14260</td>\n",
              "      <td>Pave</td>\n",
              "      <td>NaN</td>\n",
              "      <td>IR1</td>\n",
              "      <td>Lvl</td>\n",
              "      <td>AllPub</td>\n",
              "      <td>FR2</td>\n",
              "      <td>Gtl</td>\n",
              "      <td>NoRidge</td>\n",
              "      <td>Norm</td>\n",
              "      <td>Norm</td>\n",
              "      <td>1Fam</td>\n",
              "      <td>2Story</td>\n",
              "      <td>8</td>\n",
              "      <td>5</td>\n",
              "      <td>2000</td>\n",
              "      <td>2000</td>\n",
              "      <td>Gable</td>\n",
              "      <td>CompShg</td>\n",
              "      <td>VinylSd</td>\n",
              "      <td>VinylSd</td>\n",
              "      <td>BrkFace</td>\n",
              "      <td>350.000</td>\n",
              "      <td>Gd</td>\n",
              "      <td>TA</td>\n",
              "      <td>PConc</td>\n",
              "      <td>Gd</td>\n",
              "      <td>TA</td>\n",
              "      <td>Av</td>\n",
              "      <td>GLQ</td>\n",
              "      <td>655</td>\n",
              "      <td>Unf</td>\n",
              "      <td>0</td>\n",
              "      <td>490</td>\n",
              "      <td>1145</td>\n",
              "      <td>GasA</td>\n",
              "      <td>...</td>\n",
              "      <td>Y</td>\n",
              "      <td>SBrkr</td>\n",
              "      <td>1145</td>\n",
              "      <td>1053</td>\n",
              "      <td>0</td>\n",
              "      <td>2198</td>\n",
              "      <td>1</td>\n",
              "      <td>0</td>\n",
              "      <td>2</td>\n",
              "      <td>1</td>\n",
              "      <td>4</td>\n",
              "      <td>1</td>\n",
              "      <td>Gd</td>\n",
              "      <td>9</td>\n",
              "      <td>Typ</td>\n",
              "      <td>1</td>\n",
              "      <td>TA</td>\n",
              "      <td>Attchd</td>\n",
              "      <td>2000.000</td>\n",
              "      <td>RFn</td>\n",
              "      <td>3</td>\n",
              "      <td>836</td>\n",
              "      <td>TA</td>\n",
              "      <td>TA</td>\n",
              "      <td>Y</td>\n",
              "      <td>192</td>\n",
              "      <td>84</td>\n",
              "      <td>0</td>\n",
              "      <td>0</td>\n",
              "      <td>0</td>\n",
              "      <td>0</td>\n",
              "      <td>NaN</td>\n",
              "      <td>NaN</td>\n",
              "      <td>NaN</td>\n",
              "      <td>0</td>\n",
              "      <td>12</td>\n",
              "      <td>2008</td>\n",
              "      <td>WD</td>\n",
              "      <td>Normal</td>\n",
              "      <td>250000</td>\n",
              "    </tr>\n",
              "  </tbody>\n",
              "</table>\n",
              "<p>5 rows × 81 columns</p>\n",
              "</div>"
            ],
            "text/plain": [
              "   Id  MSSubClass MSZoning  ...  SaleType  SaleCondition SalePrice\n",
              "0   1          60       RL  ...        WD         Normal    208500\n",
              "1   2          20       RL  ...        WD         Normal    181500\n",
              "2   3          60       RL  ...        WD         Normal    223500\n",
              "3   4          70       RL  ...        WD        Abnorml    140000\n",
              "4   5          60       RL  ...        WD         Normal    250000\n",
              "\n",
              "[5 rows x 81 columns]"
            ]
          },
          "metadata": {
            "tags": []
          },
          "execution_count": 27
        }
      ]
    },
    {
      "cell_type": "code",
      "metadata": {
        "id": "JRzXEGxK_kyY",
        "colab_type": "code",
        "colab": {
          "base_uri": "https://localhost:8080/",
          "height": 1000
        },
        "outputId": "8ea57145-ed70-4115-e8b5-f8ec79c9ddb5"
      },
      "source": [
        "train.info()"
      ],
      "execution_count": 20,
      "outputs": [
        {
          "output_type": "stream",
          "text": [
            "<class 'pandas.core.frame.DataFrame'>\n",
            "RangeIndex: 1460 entries, 0 to 1459\n",
            "Data columns (total 80 columns):\n",
            "MSSubClass       1460 non-null int64\n",
            "MSZoning         1460 non-null object\n",
            "LotFrontage      1201 non-null float64\n",
            "LotArea          1460 non-null int64\n",
            "Street           1460 non-null object\n",
            "Alley            91 non-null object\n",
            "LotShape         1460 non-null object\n",
            "LandContour      1460 non-null object\n",
            "Utilities        1460 non-null object\n",
            "LotConfig        1460 non-null object\n",
            "LandSlope        1460 non-null object\n",
            "Neighborhood     1460 non-null object\n",
            "Condition1       1460 non-null object\n",
            "Condition2       1460 non-null object\n",
            "BldgType         1460 non-null object\n",
            "HouseStyle       1460 non-null object\n",
            "OverallQual      1460 non-null int64\n",
            "OverallCond      1460 non-null int64\n",
            "YearBuilt        1460 non-null int64\n",
            "YearRemodAdd     1460 non-null int64\n",
            "RoofStyle        1460 non-null object\n",
            "RoofMatl         1460 non-null object\n",
            "Exterior1st      1460 non-null object\n",
            "Exterior2nd      1460 non-null object\n",
            "MasVnrType       1452 non-null object\n",
            "MasVnrArea       1452 non-null float64\n",
            "ExterQual        1460 non-null object\n",
            "ExterCond        1460 non-null object\n",
            "Foundation       1460 non-null object\n",
            "BsmtQual         1423 non-null object\n",
            "BsmtCond         1423 non-null object\n",
            "BsmtExposure     1422 non-null object\n",
            "BsmtFinType1     1423 non-null object\n",
            "BsmtFinSF1       1460 non-null int64\n",
            "BsmtFinType2     1422 non-null object\n",
            "BsmtFinSF2       1460 non-null int64\n",
            "BsmtUnfSF        1460 non-null int64\n",
            "TotalBsmtSF      1460 non-null int64\n",
            "Heating          1460 non-null object\n",
            "HeatingQC        1460 non-null object\n",
            "CentralAir       1460 non-null object\n",
            "Electrical       1459 non-null object\n",
            "1stFlrSF         1460 non-null int64\n",
            "2ndFlrSF         1460 non-null int64\n",
            "LowQualFinSF     1460 non-null int64\n",
            "GrLivArea        1460 non-null int64\n",
            "BsmtFullBath     1460 non-null int64\n",
            "BsmtHalfBath     1460 non-null int64\n",
            "FullBath         1460 non-null int64\n",
            "HalfBath         1460 non-null int64\n",
            "BedroomAbvGr     1460 non-null int64\n",
            "KitchenAbvGr     1460 non-null int64\n",
            "KitchenQual      1460 non-null object\n",
            "TotRmsAbvGrd     1460 non-null int64\n",
            "Functional       1460 non-null object\n",
            "Fireplaces       1460 non-null int64\n",
            "FireplaceQu      770 non-null object\n",
            "GarageType       1379 non-null object\n",
            "GarageYrBlt      1379 non-null float64\n",
            "GarageFinish     1379 non-null object\n",
            "GarageCars       1460 non-null int64\n",
            "GarageArea       1460 non-null int64\n",
            "GarageQual       1379 non-null object\n",
            "GarageCond       1379 non-null object\n",
            "PavedDrive       1460 non-null object\n",
            "WoodDeckSF       1460 non-null int64\n",
            "OpenPorchSF      1460 non-null int64\n",
            "EnclosedPorch    1460 non-null int64\n",
            "3SsnPorch        1460 non-null int64\n",
            "ScreenPorch      1460 non-null int64\n",
            "PoolArea         1460 non-null int64\n",
            "PoolQC           7 non-null object\n",
            "Fence            281 non-null object\n",
            "MiscFeature      54 non-null object\n",
            "MiscVal          1460 non-null int64\n",
            "MoSold           1460 non-null int64\n",
            "YrSold           1460 non-null int64\n",
            "SaleType         1460 non-null object\n",
            "SaleCondition    1460 non-null object\n",
            "SalePrice        1460 non-null int64\n",
            "dtypes: float64(3), int64(34), object(43)\n",
            "memory usage: 912.6+ KB\n"
          ],
          "name": "stdout"
        }
      ]
    },
    {
      "cell_type": "code",
      "metadata": {
        "id": "tSSIEwDmAWD5",
        "colab_type": "code",
        "colab": {
          "base_uri": "https://localhost:8080/",
          "height": 35
        },
        "outputId": "07dc9702-5f42-4b9a-9ecd-572795d0cfa4"
      },
      "source": [
        "# Check for duplicates\n",
        "idsUnique = len(set(train.Id))\n",
        "idsTotal = train.shape[0]\n",
        "idsDupli = idsTotal - idsUnique\n",
        "print(\"There are \" + str(idsDupli) + \" duplicate IDs for \" + str(idsTotal) + \" total entries\")\n",
        "\n",
        "# Drop Id column\n",
        "train.drop(\"Id\", axis = 1, inplace = True)"
      ],
      "execution_count": 28,
      "outputs": [
        {
          "output_type": "stream",
          "text": [
            "There are 0 duplicate IDs for 1460 total entries\n"
          ],
          "name": "stdout"
        }
      ]
    },
    {
      "cell_type": "code",
      "metadata": {
        "id": "FUIqCVRiAChY",
        "colab_type": "code",
        "colab": {
          "base_uri": "https://localhost:8080/",
          "height": 295
        },
        "outputId": "69fdbd18-fe92-434d-c0c1-41cb7d882ee2"
      },
      "source": [
        "# Looking for outliers, as indicated in https://ww2.amstat.org/publications/jse/v19n3/decock.pdf\n",
        "plt.scatter(train.GrLivArea, train.SalePrice, c = \"blue\", marker = \"s\")\n",
        "plt.title(\"Looking for outliers\")\n",
        "plt.xlabel(\"GrLivArea\")\n",
        "plt.ylabel(\"SalePrice\")\n",
        "plt.show()\n",
        "\n",
        "train = train[train.GrLivArea < 4000]"
      ],
      "execution_count": 29,
      "outputs": [
        {
          "output_type": "display_data",
          "data": {
            "image/png": "[encoded data removed]",
            "text/plain": [
              "<Figure size 432x288 with 1 Axes>"
            ]
          },
          "metadata": {
            "tags": []
          }
        }
      ]
    },
    {
      "cell_type": "code",
      "metadata": {
        "id": "D5kS8WEdAGSK",
        "colab_type": "code",
        "colab": {}
      },
      "source": [
        "# Log transform the target for official scoring\n",
        "train.SalePrice = np.log1p(train.SalePrice)\n",
        "y = train.SalePrice"
      ],
      "execution_count": 0,
      "outputs": []
    },
    {
      "cell_type": "code",
      "metadata": {
        "id": "9qIfVkOuAMUI",
        "colab_type": "code",
        "colab": {}
      },
      "source": [
        "# Handle missing values for features where median/mean or most common value doesn't make sense\n",
        "\n",
        "# Alley : data description says NA means \"no alley access\"\n",
        "train.loc[:, \"Alley\"] = train.loc[:, \"Alley\"].fillna(\"None\")\n",
        "# BedroomAbvGr : NA most likely means 0\n",
        "train.loc[:, \"BedroomAbvGr\"] = train.loc[:, \"BedroomAbvGr\"].fillna(0)\n",
        "# BsmtQual etc : data description says NA for basement features is \"no basement\"\n",
        "train.loc[:, \"BsmtQual\"] = train.loc[:, \"BsmtQual\"].fillna(\"No\")\n",
        "train.loc[:, \"BsmtCond\"] = train.loc[:, \"BsmtCond\"].fillna(\"No\")\n",
        "train.loc[:, \"BsmtExposure\"] = train.loc[:, \"BsmtExposure\"].fillna(\"No\")\n",
        "train.loc[:, \"BsmtFinType1\"] = train.loc[:, \"BsmtFinType1\"].fillna(\"No\")\n",
        "train.loc[:, \"BsmtFinType2\"] = train.loc[:, \"BsmtFinType2\"].fillna(\"No\")\n",
        "train.loc[:, \"BsmtFullBath\"] = train.loc[:, \"BsmtFullBath\"].fillna(0)\n",
        "train.loc[:, \"BsmtHalfBath\"] = train.loc[:, \"BsmtHalfBath\"].fillna(0)\n",
        "train.loc[:, \"BsmtUnfSF\"] = train.loc[:, \"BsmtUnfSF\"].fillna(0)\n",
        "# CentralAir : NA most likely means No\n",
        "train.loc[:, \"CentralAir\"] = train.loc[:, \"CentralAir\"].fillna(\"N\")\n",
        "# Condition : NA most likely means Normal\n",
        "train.loc[:, \"Condition1\"] = train.loc[:, \"Condition1\"].fillna(\"Norm\")\n",
        "train.loc[:, \"Condition2\"] = train.loc[:, \"Condition2\"].fillna(\"Norm\")\n",
        "# EnclosedPorch : NA most likely means no enclosed porch\n",
        "train.loc[:, \"EnclosedPorch\"] = train.loc[:, \"EnclosedPorch\"].fillna(0)\n",
        "# External stuff : NA most likely means average\n",
        "train.loc[:, \"ExterCond\"] = train.loc[:, \"ExterCond\"].fillna(\"TA\")\n",
        "train.loc[:, \"ExterQual\"] = train.loc[:, \"ExterQual\"].fillna(\"TA\")\n",
        "# Fence : data description says NA means \"no fence\"\n",
        "train.loc[:, \"Fence\"] = train.loc[:, \"Fence\"].fillna(\"No\")\n",
        "# FireplaceQu : data description says NA means \"no fireplace\"\n",
        "train.loc[:, \"FireplaceQu\"] = train.loc[:, \"FireplaceQu\"].fillna(\"No\")\n",
        "train.loc[:, \"Fireplaces\"] = train.loc[:, \"Fireplaces\"].fillna(0)\n",
        "# Functional : data description says NA means typical\n",
        "train.loc[:, \"Functional\"] = train.loc[:, \"Functional\"].fillna(\"Typ\")\n",
        "# GarageType etc : data description says NA for garage features is \"no garage\"\n",
        "train.loc[:, \"GarageType\"] = train.loc[:, \"GarageType\"].fillna(\"No\")\n",
        "train.loc[:, \"GarageFinish\"] = train.loc[:, \"GarageFinish\"].fillna(\"No\")\n",
        "train.loc[:, \"GarageQual\"] = train.loc[:, \"GarageQual\"].fillna(\"No\")\n",
        "train.loc[:, \"GarageCond\"] = train.loc[:, \"GarageCond\"].fillna(\"No\")\n",
        "train.loc[:, \"GarageArea\"] = train.loc[:, \"GarageArea\"].fillna(0)\n",
        "train.loc[:, \"GarageCars\"] = train.loc[:, \"GarageCars\"].fillna(0)\n",
        "# HalfBath : NA most likely means no half baths above grade\n",
        "train.loc[:, \"HalfBath\"] = train.loc[:, \"HalfBath\"].fillna(0)\n",
        "# HeatingQC : NA most likely means typical\n",
        "train.loc[:, \"HeatingQC\"] = train.loc[:, \"HeatingQC\"].fillna(\"TA\")\n",
        "# KitchenAbvGr : NA most likely means 0\n",
        "train.loc[:, \"KitchenAbvGr\"] = train.loc[:, \"KitchenAbvGr\"].fillna(0)\n",
        "# KitchenQual : NA most likely means typical\n",
        "train.loc[:, \"KitchenQual\"] = train.loc[:, \"KitchenQual\"].fillna(\"TA\")\n",
        "# LotFrontage : NA most likely means no lot frontage\n",
        "train.loc[:, \"LotFrontage\"] = train.loc[:, \"LotFrontage\"].fillna(0)\n",
        "# LotShape : NA most likely means regular\n",
        "train.loc[:, \"LotShape\"] = train.loc[:, \"LotShape\"].fillna(\"Reg\")\n",
        "# MasVnrType : NA most likely means no veneer\n",
        "train.loc[:, \"MasVnrType\"] = train.loc[:, \"MasVnrType\"].fillna(\"None\")\n",
        "train.loc[:, \"MasVnrArea\"] = train.loc[:, \"MasVnrArea\"].fillna(0)\n",
        "# MiscFeature : data description says NA means \"no misc feature\"\n",
        "train.loc[:, \"MiscFeature\"] = train.loc[:, \"MiscFeature\"].fillna(\"No\")\n",
        "train.loc[:, \"MiscVal\"] = train.loc[:, \"MiscVal\"].fillna(0)\n",
        "# OpenPorchSF : NA most likely means no open porch\n",
        "train.loc[:, \"OpenPorchSF\"] = train.loc[:, \"OpenPorchSF\"].fillna(0)\n",
        "# PavedDrive : NA most likely means not paved\n",
        "train.loc[:, \"PavedDrive\"] = train.loc[:, \"PavedDrive\"].fillna(\"N\")\n",
        "# PoolQC : data description says NA means \"no pool\"\n",
        "train.loc[:, \"PoolQC\"] = train.loc[:, \"PoolQC\"].fillna(\"No\")\n",
        "train.loc[:, \"PoolArea\"] = train.loc[:, \"PoolArea\"].fillna(0)\n",
        "# SaleCondition : NA most likely means normal sale\n",
        "train.loc[:, \"SaleCondition\"] = train.loc[:, \"SaleCondition\"].fillna(\"Normal\")\n",
        "# ScreenPorch : NA most likely means no screen porch\n",
        "train.loc[:, \"ScreenPorch\"] = train.loc[:, \"ScreenPorch\"].fillna(0)\n",
        "# TotRmsAbvGrd : NA most likely means 0\n",
        "train.loc[:, \"TotRmsAbvGrd\"] = train.loc[:, \"TotRmsAbvGrd\"].fillna(0)\n",
        "# Utilities : NA most likely means all public utilities\n",
        "train.loc[:, \"Utilities\"] = train.loc[:, \"Utilities\"].fillna(\"AllPub\")\n",
        "# WoodDeckSF : NA most likely means no wood deck\n",
        "train.loc[:, \"WoodDeckSF\"] = train.loc[:, \"WoodDeckSF\"].fillna(0)"
      ],
      "execution_count": 0,
      "outputs": []
    },
    {
      "cell_type": "code",
      "metadata": {
        "id": "bpUlNvMPA91C",
        "colab_type": "code",
        "colab": {}
      },
      "source": [
        "# Some numerical features are actually really categories\n",
        "train = train.replace({\"MSSubClass\" : {20 : \"SC20\", 30 : \"SC30\", 40 : \"SC40\", 45 : \"SC45\", \n",
        "                                       50 : \"SC50\", 60 : \"SC60\", 70 : \"SC70\", 75 : \"SC75\", \n",
        "                                       80 : \"SC80\", 85 : \"SC85\", 90 : \"SC90\", 120 : \"SC120\", \n",
        "                                       150 : \"SC150\", 160 : \"SC160\", 180 : \"SC180\", 190 : \"SC190\"},\n",
        "                       \"MoSold\" : {1 : \"Jan\", 2 : \"Feb\", 3 : \"Mar\", 4 : \"Apr\", 5 : \"May\", 6 : \"Jun\",\n",
        "                                   7 : \"Jul\", 8 : \"Aug\", 9 : \"Sep\", 10 : \"Oct\", 11 : \"Nov\", 12 : \"Dec\"}\n",
        "                      })"
      ],
      "execution_count": 0,
      "outputs": []
    },
    {
      "cell_type": "code",
      "metadata": {
        "id": "bLkgQax3A-rJ",
        "colab_type": "code",
        "colab": {}
      },
      "source": [
        "# Encode some categorical features as ordered numbers when there is information in the order\n",
        "train = train.replace({\"Alley\" : {\"Grvl\" : 1, \"Pave\" : 2},\n",
        "                       \"BsmtCond\" : {\"No\" : 0, \"Po\" : 1, \"Fa\" : 2, \"TA\" : 3, \"Gd\" : 4, \"Ex\" : 5},\n",
        "                       \"BsmtExposure\" : {\"No\" : 0, \"Mn\" : 1, \"Av\": 2, \"Gd\" : 3},\n",
        "                       \"BsmtFinType1\" : {\"No\" : 0, \"Unf\" : 1, \"LwQ\": 2, \"Rec\" : 3, \"BLQ\" : 4, \n",
        "                                         \"ALQ\" : 5, \"GLQ\" : 6},\n",
        "                       \"BsmtFinType2\" : {\"No\" : 0, \"Unf\" : 1, \"LwQ\": 2, \"Rec\" : 3, \"BLQ\" : 4, \n",
        "                                         \"ALQ\" : 5, \"GLQ\" : 6},\n",
        "                       \"BsmtQual\" : {\"No\" : 0, \"Po\" : 1, \"Fa\" : 2, \"TA\": 3, \"Gd\" : 4, \"Ex\" : 5},\n",
        "                       \"ExterCond\" : {\"Po\" : 1, \"Fa\" : 2, \"TA\": 3, \"Gd\": 4, \"Ex\" : 5},\n",
        "                       \"ExterQual\" : {\"Po\" : 1, \"Fa\" : 2, \"TA\": 3, \"Gd\": 4, \"Ex\" : 5},\n",
        "                       \"FireplaceQu\" : {\"No\" : 0, \"Po\" : 1, \"Fa\" : 2, \"TA\" : 3, \"Gd\" : 4, \"Ex\" : 5},\n",
        "                       \"Functional\" : {\"Sal\" : 1, \"Sev\" : 2, \"Maj2\" : 3, \"Maj1\" : 4, \"Mod\": 5, \n",
        "                                       \"Min2\" : 6, \"Min1\" : 7, \"Typ\" : 8},\n",
        "                       \"GarageCond\" : {\"No\" : 0, \"Po\" : 1, \"Fa\" : 2, \"TA\" : 3, \"Gd\" : 4, \"Ex\" : 5},\n",
        "                       \"GarageQual\" : {\"No\" : 0, \"Po\" : 1, \"Fa\" : 2, \"TA\" : 3, \"Gd\" : 4, \"Ex\" : 5},\n",
        "                       \"HeatingQC\" : {\"Po\" : 1, \"Fa\" : 2, \"TA\" : 3, \"Gd\" : 4, \"Ex\" : 5},\n",
        "                       \"KitchenQual\" : {\"Po\" : 1, \"Fa\" : 2, \"TA\" : 3, \"Gd\" : 4, \"Ex\" : 5},\n",
        "                       \"LandSlope\" : {\"Sev\" : 1, \"Mod\" : 2, \"Gtl\" : 3},\n",
        "                       \"LotShape\" : {\"IR3\" : 1, \"IR2\" : 2, \"IR1\" : 3, \"Reg\" : 4},\n",
        "                       \"PavedDrive\" : {\"N\" : 0, \"P\" : 1, \"Y\" : 2},\n",
        "                       \"PoolQC\" : {\"No\" : 0, \"Fa\" : 1, \"TA\" : 2, \"Gd\" : 3, \"Ex\" : 4},\n",
        "                       \"Street\" : {\"Grvl\" : 1, \"Pave\" : 2},\n",
        "                       \"Utilities\" : {\"ELO\" : 1, \"NoSeWa\" : 2, \"NoSewr\" : 3, \"AllPub\" : 4}}\n",
        "                     )\n"
      ],
      "execution_count": 0,
      "outputs": []
    },
    {
      "cell_type": "code",
      "metadata": {
        "id": "eg_d-_LBBJv0",
        "colab_type": "code",
        "colab": {}
      },
      "source": [
        "# Create new features\n",
        "# 1* Simplifications of existing features\n",
        "train[\"SimplOverallQual\"] = train.OverallQual.replace({1 : 1, 2 : 1, 3 : 1, # bad\n",
        "                                                       4 : 2, 5 : 2, 6 : 2, # average\n",
        "                                                       7 : 3, 8 : 3, 9 : 3, 10 : 3 # good\n",
        "                                                      })\n",
        "train[\"SimplOverallCond\"] = train.OverallCond.replace({1 : 1, 2 : 1, 3 : 1, # bad\n",
        "                                                       4 : 2, 5 : 2, 6 : 2, # average\n",
        "                                                       7 : 3, 8 : 3, 9 : 3, 10 : 3 # good\n",
        "                                                      })\n",
        "train[\"SimplPoolQC\"] = train.PoolQC.replace({1 : 1, 2 : 1, # average\n",
        "                                             3 : 2, 4 : 2 # good\n",
        "                                            })\n",
        "train[\"SimplGarageCond\"] = train.GarageCond.replace({1 : 1, # bad\n",
        "                                                     2 : 1, 3 : 1, # average\n",
        "                                                     4 : 2, 5 : 2 # good\n",
        "                                                    })\n",
        "train[\"SimplGarageQual\"] = train.GarageQual.replace({1 : 1, # bad\n",
        "                                                     2 : 1, 3 : 1, # average\n",
        "                                                     4 : 2, 5 : 2 # good\n",
        "                                                    })\n",
        "train[\"SimplFireplaceQu\"] = train.FireplaceQu.replace({1 : 1, # bad\n",
        "                                                       2 : 1, 3 : 1, # average\n",
        "                                                       4 : 2, 5 : 2 # good\n",
        "                                                      })\n",
        "train[\"SimplFireplaceQu\"] = train.FireplaceQu.replace({1 : 1, # bad\n",
        "                                                       2 : 1, 3 : 1, # average\n",
        "                                                       4 : 2, 5 : 2 # good\n",
        "                                                      })\n",
        "train[\"SimplFunctional\"] = train.Functional.replace({1 : 1, 2 : 1, # bad\n",
        "                                                     3 : 2, 4 : 2, # major\n",
        "                                                     5 : 3, 6 : 3, 7 : 3, # minor\n",
        "                                                     8 : 4 # typical\n",
        "                                                    })\n",
        "train[\"SimplKitchenQual\"] = train.KitchenQual.replace({1 : 1, # bad\n",
        "                                                       2 : 1, 3 : 1, # average\n",
        "                                                       4 : 2, 5 : 2 # good\n",
        "                                                      })\n",
        "train[\"SimplHeatingQC\"] = train.HeatingQC.replace({1 : 1, # bad\n",
        "                                                   2 : 1, 3 : 1, # average\n",
        "                                                   4 : 2, 5 : 2 # good\n",
        "                                                  })\n",
        "train[\"SimplBsmtFinType1\"] = train.BsmtFinType1.replace({1 : 1, # unfinished\n",
        "                                                         2 : 1, 3 : 1, # rec room\n",
        "                                                         4 : 2, 5 : 2, 6 : 2 # living quarters\n",
        "                                                        })\n",
        "train[\"SimplBsmtFinType2\"] = train.BsmtFinType2.replace({1 : 1, # unfinished\n",
        "                                                         2 : 1, 3 : 1, # rec room\n",
        "                                                         4 : 2, 5 : 2, 6 : 2 # living quarters\n",
        "                                                        })\n",
        "train[\"SimplBsmtCond\"] = train.BsmtCond.replace({1 : 1, # bad\n",
        "                                                 2 : 1, 3 : 1, # average\n",
        "                                                 4 : 2, 5 : 2 # good\n",
        "                                                })\n",
        "train[\"SimplBsmtQual\"] = train.BsmtQual.replace({1 : 1, # bad\n",
        "                                                 2 : 1, 3 : 1, # average\n",
        "                                                 4 : 2, 5 : 2 # good\n",
        "                                                })\n",
        "train[\"SimplExterCond\"] = train.ExterCond.replace({1 : 1, # bad\n",
        "                                                   2 : 1, 3 : 1, # average\n",
        "                                                   4 : 2, 5 : 2 # good\n",
        "                                                  })\n",
        "train[\"SimplExterQual\"] = train.ExterQual.replace({1 : 1, # bad\n",
        "                                                   2 : 1, 3 : 1, # average\n",
        "                                                   4 : 2, 5 : 2 # good\n",
        "                                                  })\n",
        "# 2* Combinations of existing features\n",
        "# Overall quality of the house\n",
        "train[\"OverallGrade\"] = train[\"OverallQual\"] * train[\"OverallCond\"]\n",
        "# Overall quality of the garage\n",
        "train[\"GarageGrade\"] = train[\"GarageQual\"] * train[\"GarageCond\"]\n",
        "# Overall quality of the exterior\n",
        "train[\"ExterGrade\"] = train[\"ExterQual\"] * train[\"ExterCond\"]\n",
        "# Overall kitchen score\n",
        "train[\"KitchenScore\"] = train[\"KitchenAbvGr\"] * train[\"KitchenQual\"]\n",
        "# Overall fireplace score\n",
        "train[\"FireplaceScore\"] = train[\"Fireplaces\"] * train[\"FireplaceQu\"]\n",
        "# Overall garage score\n",
        "train[\"GarageScore\"] = train[\"GarageArea\"] * train[\"GarageQual\"]\n",
        "# Overall pool score\n",
        "train[\"PoolScore\"] = train[\"PoolArea\"] * train[\"PoolQC\"]\n",
        "# Simplified overall quality of the house\n",
        "train[\"SimplOverallGrade\"] = train[\"SimplOverallQual\"] * train[\"SimplOverallCond\"]\n",
        "# Simplified overall quality of the exterior\n",
        "train[\"SimplExterGrade\"] = train[\"SimplExterQual\"] * train[\"SimplExterCond\"]\n",
        "# Simplified overall pool score\n",
        "train[\"SimplPoolScore\"] = train[\"PoolArea\"] * train[\"SimplPoolQC\"]\n",
        "# Simplified overall garage score\n",
        "train[\"SimplGarageScore\"] = train[\"GarageArea\"] * train[\"SimplGarageQual\"]\n",
        "# Simplified overall fireplace score\n",
        "train[\"SimplFireplaceScore\"] = train[\"Fireplaces\"] * train[\"SimplFireplaceQu\"]\n",
        "# Simplified overall kitchen score\n",
        "train[\"SimplKitchenScore\"] = train[\"KitchenAbvGr\"] * train[\"SimplKitchenQual\"]\n",
        "# Total number of bathrooms\n",
        "train[\"TotalBath\"] = train[\"BsmtFullBath\"] + (0.5 * train[\"BsmtHalfBath\"]) + \\\n",
        "train[\"FullBath\"] + (0.5 * train[\"HalfBath\"])\n",
        "# Total SF for house (incl. basement)\n",
        "train[\"AllSF\"] = train[\"GrLivArea\"] + train[\"TotalBsmtSF\"]\n",
        "# Total SF for 1st + 2nd floors\n",
        "train[\"AllFlrsSF\"] = train[\"1stFlrSF\"] + train[\"2ndFlrSF\"]\n",
        "# Total SF for porch\n",
        "train[\"AllPorchSF\"] = train[\"OpenPorchSF\"] + train[\"EnclosedPorch\"] + \\\n",
        "train[\"3SsnPorch\"] + train[\"ScreenPorch\"]\n",
        "# Has masonry veneer or not\n",
        "train[\"HasMasVnr\"] = train.MasVnrType.replace({\"BrkCmn\" : 1, \"BrkFace\" : 1, \"CBlock\" : 1, \n",
        "                                               \"Stone\" : 1, \"None\" : 0})\n",
        "# House completed before sale or not\n",
        "train[\"BoughtOffPlan\"] = train.SaleCondition.replace({\"Abnorml\" : 0, \"Alloca\" : 0, \"AdjLand\" : 0, \n",
        "                                                      \"Family\" : 0, \"Normal\" : 0, \"Partial\" : 1})"
      ],
      "execution_count": 0,
      "outputs": []
    },
    {
      "cell_type": "code",
      "metadata": {
        "id": "JF5xhrxkBiRL",
        "colab_type": "code",
        "colab": {
          "base_uri": "https://localhost:8080/",
          "height": 1000
        },
        "outputId": "edb4afbb-2857-443f-8539-13031a44e858"
      },
      "source": [
        "# Find most important features relative to target\n",
        "print(\"Find most important features relative to target\")\n",
        "corr = train.corr()\n",
        "corr.sort_values([\"SalePrice\"], ascending = False, inplace = True)\n",
        "print(corr.SalePrice)"
      ],
      "execution_count": 35,
      "outputs": [
        {
          "output_type": "stream",
          "text": [
            "Find most important features relative to target\n",
            "SalePrice            1.000\n",
            "OverallQual          0.819\n",
            "AllSF                0.817\n",
            "AllFlrsSF            0.729\n",
            "GrLivArea            0.719\n",
            "SimplOverallQual     0.708\n",
            "ExterQual            0.681\n",
            "GarageCars           0.680\n",
            "TotalBath            0.673\n",
            "KitchenQual          0.667\n",
            "GarageScore          0.657\n",
            "GarageArea           0.655\n",
            "TotalBsmtSF          0.642\n",
            "SimplExterQual       0.636\n",
            "SimplGarageScore     0.631\n",
            "BsmtQual             0.615\n",
            "1stFlrSF             0.614\n",
            "SimplKitchenQual     0.610\n",
            "OverallGrade         0.604\n",
            "SimplBsmtQual        0.594\n",
            "FullBath             0.591\n",
            "YearBuilt            0.589\n",
            "ExterGrade           0.587\n",
            "YearRemodAdd         0.569\n",
            "FireplaceQu          0.547\n",
            "GarageYrBlt          0.544\n",
            "TotRmsAbvGrd         0.533\n",
            "SimplOverallGrade    0.527\n",
            "SimplKitchenScore    0.523\n",
            "FireplaceScore       0.518\n",
            "                     ...  \n",
            "SimplBsmtCond        0.204\n",
            "BedroomAbvGr         0.204\n",
            "AllPorchSF           0.199\n",
            "LotFrontage          0.174\n",
            "SimplFunctional      0.137\n",
            "Functional           0.136\n",
            "ScreenPorch          0.124\n",
            "SimplBsmtFinType2    0.105\n",
            "Street               0.058\n",
            "3SsnPorch            0.056\n",
            "ExterCond            0.051\n",
            "PoolArea             0.041\n",
            "SimplPoolScore       0.040\n",
            "SimplPoolQC          0.040\n",
            "PoolScore            0.040\n",
            "PoolQC               0.038\n",
            "BsmtFinType2         0.016\n",
            "Utilities            0.013\n",
            "BsmtFinSF2           0.006\n",
            "BsmtHalfBath        -0.015\n",
            "MiscVal             -0.020\n",
            "SimplOverallCond    -0.028\n",
            "YrSold              -0.034\n",
            "OverallCond         -0.037\n",
            "LowQualFinSF        -0.038\n",
            "LandSlope           -0.040\n",
            "SimplExterCond      -0.042\n",
            "KitchenAbvGr        -0.148\n",
            "EnclosedPorch       -0.149\n",
            "LotShape            -0.286\n",
            "Name: SalePrice, Length: 87, dtype: float64\n"
          ],
          "name": "stdout"
        }
      ]
    },
    {
      "cell_type": "code",
      "metadata": {
        "id": "nZztIl7sBlC3",
        "colab_type": "code",
        "colab": {}
      },
      "source": [
        "# Create new features\n",
        "# 3* Polynomials on the top 10 existing features\n",
        "train[\"OverallQual-s2\"] = train[\"OverallQual\"] ** 2\n",
        "train[\"OverallQual-s3\"] = train[\"OverallQual\"] ** 3\n",
        "train[\"OverallQual-Sq\"] = np.sqrt(train[\"OverallQual\"])\n",
        "train[\"AllSF-2\"] = train[\"AllSF\"] ** 2\n",
        "train[\"AllSF-3\"] = train[\"AllSF\"] ** 3\n",
        "train[\"AllSF-Sq\"] = np.sqrt(train[\"AllSF\"])\n",
        "train[\"AllFlrsSF-2\"] = train[\"AllFlrsSF\"] ** 2\n",
        "train[\"AllFlrsSF-3\"] = train[\"AllFlrsSF\"] ** 3\n",
        "train[\"AllFlrsSF-Sq\"] = np.sqrt(train[\"AllFlrsSF\"])\n",
        "train[\"GrLivArea-2\"] = train[\"GrLivArea\"] ** 2\n",
        "train[\"GrLivArea-3\"] = train[\"GrLivArea\"] ** 3\n",
        "train[\"GrLivArea-Sq\"] = np.sqrt(train[\"GrLivArea\"])\n",
        "train[\"SimplOverallQual-s2\"] = train[\"SimplOverallQual\"] ** 2\n",
        "train[\"SimplOverallQual-s3\"] = train[\"SimplOverallQual\"] ** 3\n",
        "train[\"SimplOverallQual-Sq\"] = np.sqrt(train[\"SimplOverallQual\"])\n",
        "train[\"ExterQual-2\"] = train[\"ExterQual\"] ** 2\n",
        "train[\"ExterQual-3\"] = train[\"ExterQual\"] ** 3\n",
        "train[\"ExterQual-Sq\"] = np.sqrt(train[\"ExterQual\"])\n",
        "train[\"GarageCars-2\"] = train[\"GarageCars\"] ** 2\n",
        "train[\"GarageCars-3\"] = train[\"GarageCars\"] ** 3\n",
        "train[\"GarageCars-Sq\"] = np.sqrt(train[\"GarageCars\"])\n",
        "train[\"TotalBath-2\"] = train[\"TotalBath\"] ** 2\n",
        "train[\"TotalBath-3\"] = train[\"TotalBath\"] ** 3\n",
        "train[\"TotalBath-Sq\"] = np.sqrt(train[\"TotalBath\"])\n",
        "train[\"KitchenQual-2\"] = train[\"KitchenQual\"] ** 2\n",
        "train[\"KitchenQual-3\"] = train[\"KitchenQual\"] ** 3\n",
        "train[\"KitchenQual-Sq\"] = np.sqrt(train[\"KitchenQual\"])\n",
        "train[\"GarageScore-2\"] = train[\"GarageScore\"] ** 2\n",
        "train[\"GarageScore-3\"] = train[\"GarageScore\"] ** 3\n",
        "train[\"GarageScore-Sq\"] = np.sqrt(train[\"GarageScore\"])"
      ],
      "execution_count": 0,
      "outputs": []
    },
    {
      "cell_type": "code",
      "metadata": {
        "id": "8aaZDra0By6d",
        "colab_type": "code",
        "colab": {
          "base_uri": "https://localhost:8080/",
          "height": 53
        },
        "outputId": "e21b08d3-83fe-480b-db4e-8c692d052210"
      },
      "source": [
        "# Differentiate numerical features (minus the target) and categorical features\n",
        "categorical_features = train.select_dtypes(include = [\"object\"]).columns\n",
        "numerical_features = train.select_dtypes(exclude = [\"object\"]).columns\n",
        "numerical_features = numerical_features.drop(\"SalePrice\")\n",
        "print(\"Numerical features : \" + str(len(numerical_features)))\n",
        "print(\"Categorical features : \" + str(len(categorical_features)))\n",
        "train_num = train[numerical_features]\n",
        "train_cat = train[categorical_features]"
      ],
      "execution_count": 37,
      "outputs": [
        {
          "output_type": "stream",
          "text": [
            "Numerical features : 116\n",
            "Categorical features : 27\n"
          ],
          "name": "stdout"
        }
      ]
    },
    {
      "cell_type": "code",
      "metadata": {
        "id": "AnCkXxTRB451",
        "colab_type": "code",
        "colab": {
          "base_uri": "https://localhost:8080/",
          "height": 53
        },
        "outputId": "8482ef35-cd63-40b5-e6ea-406c667450d5"
      },
      "source": [
        "# Handle remaining missing values for numerical features by using median as replacement\n",
        "print(\"NAs for numerical features in train : \" + str(train_num.isnull().values.sum()))\n",
        "train_num = train_num.fillna(train_num.median())\n",
        "print(\"Remaining NAs for numerical features in train : \" + str(train_num.isnull().values.sum()))"
      ],
      "execution_count": 38,
      "outputs": [
        {
          "output_type": "stream",
          "text": [
            "NAs for numerical features in train : 81\n",
            "Remaining NAs for numerical features in train : 0\n"
          ],
          "name": "stdout"
        }
      ]
    },
    {
      "cell_type": "code",
      "metadata": {
        "id": "uzNNDLuuB8dY",
        "colab_type": "code",
        "colab": {
          "base_uri": "https://localhost:8080/",
          "height": 35
        },
        "outputId": "ae568539-4ffa-4686-f54e-976f6ff9db96"
      },
      "source": [
        "# Log transform of the skewed numerical features to lessen impact of outliers\n",
        "# Inspired by Alexandru Papiu's script : https://www.kaggle.com/apapiu/house-prices-advanced-regression-techniques/regularized-linear-models\n",
        "# As a general rule of thumb, a skewness with an absolute value > 0.5 is considered at least moderately skewed\n",
        "skewness = train_num.apply(lambda x: skew(x))\n",
        "skewness = skewness[abs(skewness) > 0.5]\n",
        "print(str(skewness.shape[0]) + \" skewed numerical features to log transform\")\n",
        "skewed_features = skewness.index\n",
        "train_num[skewed_features] = np.log1p(train_num[skewed_features])"
      ],
      "execution_count": 39,
      "outputs": [
        {
          "output_type": "stream",
          "text": [
            "85 skewed numerical features to log transform\n"
          ],
          "name": "stdout"
        }
      ]
    },
    {
      "cell_type": "code",
      "metadata": {
        "id": "NrUHJf8ACCAa",
        "colab_type": "code",
        "colab": {
          "base_uri": "https://localhost:8080/",
          "height": 53
        },
        "outputId": "15f5503a-afdc-40dc-a83e-56cb574ab023"
      },
      "source": [
        "# Create dummy features for categorical values via one-hot encoding\n",
        "print(\"NAs for categorical features in train : \" + str(train_cat.isnull().values.sum()))\n",
        "train_cat = pd.get_dummies(train_cat)\n",
        "print(\"Remaining NAs for categorical features in train : \" + str(train_cat.isnull().values.sum()))"
      ],
      "execution_count": 40,
      "outputs": [
        {
          "output_type": "stream",
          "text": [
            "NAs for categorical features in train : 1\n",
            "Remaining NAs for categorical features in train : 0\n"
          ],
          "name": "stdout"
        }
      ]
    },
    {
      "cell_type": "code",
      "metadata": {
        "id": "eT8fg5RXC52X",
        "colab_type": "code",
        "colab": {
          "base_uri": "https://localhost:8080/",
          "height": 107
        },
        "outputId": "f4d65855-2f9b-4a59-9429-54a7e5d428e2"
      },
      "source": [
        "# Join categorical and numerical features\n",
        "train = pd.concat([train_num, train_cat], axis = 1)\n",
        "print(\"New number of features : \" + str(train.shape[1]))\n",
        "\n",
        "# Partition the dataset in train + validation sets\n",
        "X_train, X_test, y_train, y_test = train_test_split(train, y, test_size = 0.3, random_state = 0)\n",
        "print(\"X_train : \" + str(X_train.shape))\n",
        "print(\"X_test : \" + str(X_test.shape))\n",
        "print(\"y_train : \" + str(y_train.shape))\n",
        "print(\"y_test : \" + str(y_test.shape))"
      ],
      "execution_count": 41,
      "outputs": [
        {
          "output_type": "stream",
          "text": [
            "New number of features : 323\n",
            "X_train : (1019, 323)\n",
            "X_test : (437, 323)\n",
            "y_train : (1019,)\n",
            "y_test : (437,)\n"
          ],
          "name": "stdout"
        }
      ]
    },
    {
      "cell_type": "code",
      "metadata": {
        "id": "GSowStpuC8oD",
        "colab_type": "code",
        "colab": {}
      },
      "source": [
        "# Standardize numerical features\n",
        "stdSc = StandardScaler()\n",
        "X_train.loc[:, numerical_features] = stdSc.fit_transform(X_train.loc[:, numerical_features])\n",
        "X_test.loc[:, numerical_features] = stdSc.transform(X_test.loc[:, numerical_features])"
      ],
      "execution_count": 0,
      "outputs": []
    },
    {
      "cell_type": "code",
      "metadata": {
        "id": "GWsEWf8-DC0v",
        "colab_type": "code",
        "colab": {}
      },
      "source": [
        "# Define error measure for official scoring : RMSE\n",
        "scorer = make_scorer(mean_squared_error, greater_is_better = False)\n",
        "\n",
        "def rmse_cv_train(model):\n",
        "    rmse= np.sqrt(-cross_val_score(model, X_train, y_train, scoring = scorer, cv = 10))\n",
        "    return(rmse)\n",
        "\n",
        "def rmse_cv_test(model):\n",
        "    rmse= np.sqrt(-cross_val_score(model, X_test, y_test, scoring = scorer, cv = 10))\n",
        "    return(rmse)"
      ],
      "execution_count": 0,
      "outputs": []
    },
    {
      "cell_type": "markdown",
      "metadata": {
        "id": "Ci8qnfvBDM57",
        "colab_type": "text"
      },
      "source": [
        "**Linear Regression without regularization**"
      ]
    },
    {
      "cell_type": "code",
      "metadata": {
        "id": "wdWzidb7DHnO",
        "colab_type": "code",
        "colab": {
          "base_uri": "https://localhost:8080/",
          "height": 609
        },
        "outputId": "d13a1db4-2c57-42e2-fd57-642258992785"
      },
      "source": [
        "# Linear Regression\n",
        "lr = LinearRegression()\n",
        "lr.fit(X_train, y_train)\n",
        "\n",
        "# Look at predictions on training and validation set\n",
        "print(\"RMSE on Training set :\", rmse_cv_train(lr).mean())\n",
        "print(\"RMSE on Test set :\", rmse_cv_test(lr).mean())\n",
        "y_train_pred = lr.predict(X_train)\n",
        "y_test_pred = lr.predict(X_test)\n",
        "\n",
        "# Plot residuals\n",
        "plt.scatter(y_train_pred, y_train_pred - y_train, c = \"blue\", marker = \"s\", label = \"Training data\")\n",
        "plt.scatter(y_test_pred, y_test_pred - y_test, c = \"lightgreen\", marker = \"s\", label = \"Validation data\")\n",
        "plt.title(\"Linear regression\")\n",
        "plt.xlabel(\"Predicted values\")\n",
        "plt.ylabel(\"Residuals\")\n",
        "plt.legend(loc = \"upper left\")\n",
        "plt.hlines(y = 0, xmin = 10.5, xmax = 13.5, color = \"red\")\n",
        "plt.show()\n",
        "\n",
        "# Plot predictions\n",
        "plt.scatter(y_train_pred, y_train, c = \"blue\", marker = \"s\", label = \"Training data\")\n",
        "plt.scatter(y_test_pred, y_test, c = \"lightgreen\", marker = \"s\", label = \"Validation data\")\n",
        "plt.title(\"Linear regression\")\n",
        "plt.xlabel(\"Predicted values\")\n",
        "plt.ylabel(\"Real values\")\n",
        "plt.legend(loc = \"upper left\")\n",
        "plt.plot([10.5, 13.5], [10.5, 13.5], c = \"red\")\n",
        "plt.show()"
      ],
      "execution_count": 44,
      "outputs": [
        {
          "output_type": "stream",
          "text": [
            "RMSE on Training set : 3070007940.1773686\n",
            "RMSE on Test set : 0.41409420200629715\n"
          ],
          "name": "stdout"
        },
        {
          "output_type": "display_data",
          "data": {
            "image/png": "[encoded data removed]",
            "text/plain": [
              "<Figure size 432x288 with 1 Axes>"
            ]
          },
          "metadata": {
            "tags": []
          }
        },
        {
          "output_type": "display_data",
          "data": {
            "image/png": "[encoded data removed]",
            "text/plain": [
              "<Figure size 432x288 with 1 Axes>"
            ]
          },
          "metadata": {
            "tags": []
          }
        }
      ]
    },
    {
      "cell_type": "markdown",
      "metadata": {
        "id": "Ya9sOvx4Don-",
        "colab_type": "text"
      },
      "source": [
        "**Linear Regression with ridge regularization**"
      ]
    },
    {
      "cell_type": "code",
      "metadata": {
        "id": "jDJoaYqyDZSa",
        "colab_type": "code",
        "colab": {
          "base_uri": "https://localhost:8080/",
          "height": 945
        },
        "outputId": "56227708-e7a3-4b6c-fe51-bac1b529e093"
      },
      "source": [
        "# 2* Ridge\n",
        "ridge = RidgeCV(alphas = [0.01, 0.03, 0.06, 0.1, 0.3, 0.6, 1, 3, 6, 10, 30, 60])\n",
        "ridge.fit(X_train, y_train)\n",
        "alpha = ridge.alpha_\n",
        "print(\"Best alpha :\", alpha)\n",
        "\n",
        "print(\"Try again for more precision with alphas centered around \" + str(alpha))\n",
        "ridge = RidgeCV(alphas = [alpha * .6, alpha * .65, alpha * .7, alpha * .75, alpha * .8, alpha * .85, \n",
        "                          alpha * .9, alpha * .95, alpha, alpha * 1.05, alpha * 1.1, alpha * 1.15,\n",
        "                          alpha * 1.25, alpha * 1.3, alpha * 1.35, alpha * 1.4], \n",
        "                cv = 10)\n",
        "ridge.fit(X_train, y_train)\n",
        "alpha = ridge.alpha_\n",
        "print(\"Best alpha :\", alpha)\n",
        "\n",
        "print(\"Ridge RMSE on Training set :\", rmse_cv_train(ridge).mean())\n",
        "print(\"Ridge RMSE on Test set :\", rmse_cv_test(ridge).mean())\n",
        "y_train_rdg = ridge.predict(X_train)\n",
        "y_test_rdg = ridge.predict(X_test)\n",
        "\n",
        "# Plot residuals\n",
        "plt.scatter(y_train_rdg, y_train_rdg - y_train, c = \"blue\", marker = \"s\", label = \"Training data\")\n",
        "plt.scatter(y_test_rdg, y_test_rdg - y_test, c = \"lightgreen\", marker = \"s\", label = \"Validation data\")\n",
        "plt.title(\"Linear regression with Ridge regularization\")\n",
        "plt.xlabel(\"Predicted values\")\n",
        "plt.ylabel(\"Residuals\")\n",
        "plt.legend(loc = \"upper left\")\n",
        "plt.hlines(y = 0, xmin = 10.5, xmax = 13.5, color = \"red\")\n",
        "plt.show()\n",
        "\n",
        "# Plot predictions\n",
        "plt.scatter(y_train_rdg, y_train, c = \"blue\", marker = \"s\", label = \"Training data\")\n",
        "plt.scatter(y_test_rdg, y_test, c = \"lightgreen\", marker = \"s\", label = \"Validation data\")\n",
        "plt.title(\"Linear regression with Ridge regularization\")\n",
        "plt.xlabel(\"Predicted values\")\n",
        "plt.ylabel(\"Real values\")\n",
        "plt.legend(loc = \"upper left\")\n",
        "plt.plot([10.5, 13.5], [10.5, 13.5], c = \"red\")\n",
        "plt.show()\n",
        "\n",
        "# Plot important coefficients\n",
        "coefs = pd.Series(ridge.coef_, index = X_train.columns)\n",
        "print(\"Ridge picked \" + str(sum(coefs != 0)) + \" features and eliminated the other \" +  \\\n",
        "      str(sum(coefs == 0)) + \" features\")\n",
        "imp_coefs = pd.concat([coefs.sort_values().head(10),\n",
        "                     coefs.sort_values().tail(10)])\n",
        "imp_coefs.plot(kind = \"barh\")\n",
        "plt.title(\"Coefficients in the Ridge Model\")\n",
        "plt.show()"
      ],
      "execution_count": 45,
      "outputs": [
        {
          "output_type": "stream",
          "text": [
            "Best alpha : 30.0\n",
            "Try again for more precision with alphas centered around 30.0\n",
            "Best alpha : 24.0\n",
            "Ridge RMSE on Training set : 0.11527633660632726\n",
            "Ridge RMSE on Test set : 0.11643253380357313\n"
          ],
          "name": "stdout"
        },
        {
          "output_type": "display_data",
          "data": {
            "image/png": "[encoded data removed]",
            "text/plain": [
              "<Figure size 432x288 with 1 Axes>"
            ]
          },
          "metadata": {
            "tags": []
          }
        },
        {
          "output_type": "display_data",
          "data": {
            "image/png": "[encoded data removed]",
            "text/plain": [
              "<Figure size 432x288 with 1 Axes>"
            ]
          },
          "metadata": {
            "tags": []
          }
        },
        {
          "output_type": "stream",
          "text": [
            "Ridge picked 320 features and eliminated the other 3 features\n"
          ],
          "name": "stdout"
        },
        {
          "output_type": "display_data",
          "data": {
            "image/png": "[encoded data removed]",
            "text/plain": [
              "<Figure size 432x288 with 1 Axes>"
            ]
          },
          "metadata": {
            "tags": []
          }
        }
      ]
    },
    {
      "cell_type": "markdown",
      "metadata": {
        "id": "3txVvHCIEhDo",
        "colab_type": "text"
      },
      "source": [
        "**Ridge regression with Lasso regularization**"
      ]
    },
    {
      "cell_type": "code",
      "metadata": {
        "id": "tQ5TrbAJD713",
        "colab_type": "code",
        "colab": {
          "base_uri": "https://localhost:8080/",
          "height": 945
        },
        "outputId": "45672847-f880-4ccb-c61d-6a9f97963860"
      },
      "source": [
        "# 3* Lasso\n",
        "lasso = LassoCV(alphas = [0.0001, 0.0003, 0.0006, 0.001, 0.003, 0.006, 0.01, 0.03, 0.06, 0.1, \n",
        "                          0.3, 0.6, 1], \n",
        "                max_iter = 50000, cv = 10)\n",
        "lasso.fit(X_train, y_train)\n",
        "alpha = lasso.alpha_\n",
        "print(\"Best alpha :\", alpha)\n",
        "\n",
        "print(\"Try again for more precision with alphas centered around \" + str(alpha))\n",
        "lasso = LassoCV(alphas = [alpha * .6, alpha * .65, alpha * .7, alpha * .75, alpha * .8, \n",
        "                          alpha * .85, alpha * .9, alpha * .95, alpha, alpha * 1.05, \n",
        "                          alpha * 1.1, alpha * 1.15, alpha * 1.25, alpha * 1.3, alpha * 1.35, \n",
        "                          alpha * 1.4], \n",
        "                max_iter = 50000, cv = 10)\n",
        "lasso.fit(X_train, y_train)\n",
        "alpha = lasso.alpha_\n",
        "print(\"Best alpha :\", alpha)\n",
        "\n",
        "print(\"Lasso RMSE on Training set :\", rmse_cv_train(lasso).mean())\n",
        "print(\"Lasso RMSE on Test set :\", rmse_cv_test(lasso).mean())\n",
        "y_train_las = lasso.predict(X_train)\n",
        "y_test_las = lasso.predict(X_test)\n",
        "\n",
        "# Plot residuals\n",
        "plt.scatter(y_train_las, y_train_las - y_train, c = \"blue\", marker = \"s\", label = \"Training data\")\n",
        "plt.scatter(y_test_las, y_test_las - y_test, c = \"lightgreen\", marker = \"s\", label = \"Validation data\")\n",
        "plt.title(\"Linear regression with Lasso regularization\")\n",
        "plt.xlabel(\"Predicted values\")\n",
        "plt.ylabel(\"Residuals\")\n",
        "plt.legend(loc = \"upper left\")\n",
        "plt.hlines(y = 0, xmin = 10.5, xmax = 13.5, color = \"red\")\n",
        "plt.show()\n",
        "\n",
        "# Plot predictions\n",
        "plt.scatter(y_train_las, y_train, c = \"blue\", marker = \"s\", label = \"Training data\")\n",
        "plt.scatter(y_test_las, y_test, c = \"lightgreen\", marker = \"s\", label = \"Validation data\")\n",
        "plt.title(\"Linear regression with Lasso regularization\")\n",
        "plt.xlabel(\"Predicted values\")\n",
        "plt.ylabel(\"Real values\")\n",
        "plt.legend(loc = \"upper left\")\n",
        "plt.plot([10.5, 13.5], [10.5, 13.5], c = \"red\")\n",
        "plt.show()\n",
        "\n",
        "# Plot important coefficients\n",
        "coefs = pd.Series(lasso.coef_, index = X_train.columns)\n",
        "print(\"Lasso picked \" + str(sum(coefs != 0)) + \" features and eliminated the other \" +  \\\n",
        "      str(sum(coefs == 0)) + \" features\")\n",
        "imp_coefs = pd.concat([coefs.sort_values().head(10),\n",
        "                     coefs.sort_values().tail(10)])\n",
        "imp_coefs.plot(kind = \"barh\")\n",
        "plt.title(\"Coefficients in the Lasso Model\")\n",
        "plt.show()"
      ],
      "execution_count": 46,
      "outputs": [
        {
          "output_type": "stream",
          "text": [
            "Best alpha : 0.0006\n",
            "Try again for more precision with alphas centered around 0.0006\n",
            "Best alpha : 0.0006\n",
            "Lasso RMSE on Training set : 0.11360359018427942\n",
            "Lasso RMSE on Test set : 0.11613054053923284\n"
          ],
          "name": "stdout"
        },
        {
          "output_type": "display_data",
          "data": {
            "image/png": "[encoded data removed]",
            "text/plain": [
              "<Figure size 432x288 with 1 Axes>"
            ]
          },
          "metadata": {
            "tags": []
          }
        },
        {
          "output_type": "display_data",
          "data": {
            "image/png": "[encoded data removed]",
            "text/plain": [
              "<Figure size 432x288 with 1 Axes>"
            ]
          },
          "metadata": {
            "tags": []
          }
        },
        {
          "output_type": "stream",
          "text": [
            "Lasso picked 110 features and eliminated the other 213 features\n"
          ],
          "name": "stdout"
        },
        {
          "output_type": "display_data",
          "data": {
            "image/png": "[encoded data removed]",
            "text/plain": [
              "<Figure size 432x288 with 1 Axes>"
            ]
          },
          "metadata": {
            "tags": []
          }
        }
      ]
    },
    {
      "cell_type": "markdown",
      "metadata": {
        "id": "FZBn0GjeFNOa",
        "colab_type": "text"
      },
      "source": [
        "**Linear regression with elastic regularization**"
      ]
    },
    {
      "cell_type": "code",
      "metadata": {
        "id": "2hMJgmUVE5py",
        "colab_type": "code",
        "colab": {
          "base_uri": "https://localhost:8080/",
          "height": 1000
        },
        "outputId": "3b803010-42a7-4af4-d4af-b168c07da0f0"
      },
      "source": [
        "# 4* ElasticNet\n",
        "elasticNet = ElasticNetCV(l1_ratio = [0.1, 0.3, 0.5, 0.6, 0.7, 0.8, 0.85, 0.9, 0.95, 1],\n",
        "                          alphas = [0.0001, 0.0003, 0.0006, 0.001, 0.003, 0.006, \n",
        "                                    0.01, 0.03, 0.06, 0.1, 0.3, 0.6, 1, 3, 6], \n",
        "                          max_iter = 50000, cv = 10)\n",
        "elasticNet.fit(X_train, y_train)\n",
        "alpha = elasticNet.alpha_\n",
        "ratio = elasticNet.l1_ratio_\n",
        "print(\"Best l1_ratio :\", ratio)\n",
        "print(\"Best alpha :\", alpha )\n",
        "\n",
        "print(\"Try again for more precision with l1_ratio centered around \" + str(ratio))\n",
        "elasticNet = ElasticNetCV(l1_ratio = [ratio * .85, ratio * .9, ratio * .95, ratio, ratio * 1.05, ratio * 1.1, ratio * 1.15],\n",
        "                          alphas = [0.0001, 0.0003, 0.0006, 0.001, 0.003, 0.006, 0.01, 0.03, 0.06, 0.1, 0.3, 0.6, 1, 3, 6], \n",
        "                          max_iter = 50000, cv = 10)\n",
        "elasticNet.fit(X_train, y_train)\n",
        "if (elasticNet.l1_ratio_ > 1):\n",
        "    elasticNet.l1_ratio_ = 1    \n",
        "alpha = elasticNet.alpha_\n",
        "ratio = elasticNet.l1_ratio_\n",
        "print(\"Best l1_ratio :\", ratio)\n",
        "print(\"Best alpha :\", alpha )\n",
        "\n",
        "print(\"Now try again for more precision on alpha, with l1_ratio fixed at \" + str(ratio) + \n",
        "      \" and alpha centered around \" + str(alpha))\n",
        "elasticNet = ElasticNetCV(l1_ratio = ratio,\n",
        "                          alphas = [alpha * .6, alpha * .65, alpha * .7, alpha * .75, alpha * .8, alpha * .85, alpha * .9, \n",
        "                                    alpha * .95, alpha, alpha * 1.05, alpha * 1.1, alpha * 1.15, alpha * 1.25, alpha * 1.3, \n",
        "                                    alpha * 1.35, alpha * 1.4], \n",
        "                          max_iter = 50000, cv = 10)\n",
        "elasticNet.fit(X_train, y_train)\n",
        "if (elasticNet.l1_ratio_ > 1):\n",
        "    elasticNet.l1_ratio_ = 1    \n",
        "alpha = elasticNet.alpha_\n",
        "ratio = elasticNet.l1_ratio_\n",
        "print(\"Best l1_ratio :\", ratio)\n",
        "print(\"Best alpha :\", alpha )\n",
        "\n",
        "print(\"ElasticNet RMSE on Training set :\", rmse_cv_train(elasticNet).mean())\n",
        "print(\"ElasticNet RMSE on Test set :\", rmse_cv_test(elasticNet).mean())\n",
        "y_train_ela = elasticNet.predict(X_train)\n",
        "y_test_ela = elasticNet.predict(X_test)\n",
        "\n",
        "# Plot residuals\n",
        "plt.scatter(y_train_ela, y_train_ela - y_train, c = \"blue\", marker = \"s\", label = \"Training data\")\n",
        "plt.scatter(y_test_ela, y_test_ela - y_test, c = \"lightgreen\", marker = \"s\", label = \"Validation data\")\n",
        "plt.title(\"Linear regression with ElasticNet regularization\")\n",
        "plt.xlabel(\"Predicted values\")\n",
        "plt.ylabel(\"Residuals\")\n",
        "plt.legend(loc = \"upper left\")\n",
        "plt.hlines(y = 0, xmin = 10.5, xmax = 13.5, color = \"red\")\n",
        "plt.show()\n",
        "\n",
        "# Plot predictions\n",
        "plt.scatter(y_train, y_train_ela, c = \"blue\", marker = \"s\", label = \"Training data\")\n",
        "plt.scatter(y_test, y_test_ela, c = \"lightgreen\", marker = \"s\", label = \"Validation data\")\n",
        "plt.title(\"Linear regression with ElasticNet regularization\")\n",
        "plt.xlabel(\"Predicted values\")\n",
        "plt.ylabel(\"Real values\")\n",
        "plt.legend(loc = \"upper left\")\n",
        "plt.plot([10.5, 13.5], [10.5, 13.5], c = \"red\")\n",
        "plt.show()\n",
        "\n",
        "# Plot important coefficients\n",
        "coefs = pd.Series(elasticNet.coef_, index = X_train.columns)\n",
        "print(\"ElasticNet picked \" + str(sum(coefs != 0)) + \" features and eliminated the other \" +  str(sum(coefs == 0)) + \" features\")\n",
        "imp_coefs = pd.concat([coefs.sort_values().head(10),\n",
        "                     coefs.sort_values().tail(10)])\n",
        "imp_coefs.plot(kind = \"barh\")\n",
        "plt.title(\"Coefficients in the ElasticNet Model\")\n",
        "plt.show()"
      ],
      "execution_count": 47,
      "outputs": [
        {
          "output_type": "stream",
          "text": [
            "Best l1_ratio : 1.0\n",
            "Best alpha : 0.0006\n",
            "Try again for more precision with l1_ratio centered around 1.0\n",
            "Best l1_ratio : 1\n",
            "Best alpha : 0.0006\n",
            "Now try again for more precision on alpha, with l1_ratio fixed at 1 and alpha centered around 0.0006\n",
            "Best l1_ratio : 1\n",
            "Best alpha : 0.0006\n",
            "ElasticNet RMSE on Training set : 0.11360359018427942\n",
            "ElasticNet RMSE on Test set : 0.11613054053923284\n"
          ],
          "name": "stdout"
        },
        {
          "output_type": "display_data",
          "data": {
            "image/png": "[encoded data removed]",
            "text/plain": [
              "<Figure size 432x288 with 1 Axes>"
            ]
          },
          "metadata": {
            "tags": []
          }
        },
        {
          "output_type": "display_data",
          "data": {
            "image/png": "[encoded data removed]",
            "text/plain": [
              "<Figure size 432x288 with 1 Axes>"
            ]
          },
          "metadata": {
            "tags": []
          }
        },
        {
          "output_type": "stream",
          "text": [
            "ElasticNet picked 110 features and eliminated the other 213 features\n"
          ],
          "name": "stdout"
        },
        {
          "output_type": "display_data",
          "data": {
            "image/png": "[encoded data removed]",
            "text/plain": [
              "<Figure size 432x288 with 1 Axes>"
            ]
          },
          "metadata": {
            "tags": []
          }
        }
      ]
    },
    {
      "cell_type": "code",
      "metadata": {
        "id": "xXo9jIQqFwa-",
        "colab_type": "code",
        "colab": {}
      },
      "source": [
        ""
      ],
      "execution_count": 0,
      "outputs": []
    }
  ]
}